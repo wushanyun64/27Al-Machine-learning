{
 "cells": [
  {
   "cell_type": "code",
   "execution_count": null,
   "metadata": {},
   "outputs": [],
   "source": [
    "# getXY when choose sparse matrix in soap\n",
    "from scipy.sparse import coo_matrix, vstack\n",
    "def getXY(structures_tensors,num,descriptor):\n",
    "    X=None\n",
    "    y=[]\n",
    "    for structure_tensor in tqdm(structures_tensors[:num]):\n",
    "        if descriptor=='soap':\n",
    "            soap, nmr_param = TensorSOAPcombo(structure_tensor,'diso',species = species)\n",
    "            if X==None:\n",
    "                X =soap\n",
    "            else:\n",
    "                X = vstack([X,soap])\n",
    "            y.extend(nmr_param)\n",
    "        elif descriptor=='gaussian_sym':\n",
    "            gaussian_sym,nmr_param = TensorGaussianCombo(structure_tensor,'diso')\n",
    "            X.extend(gaussian_sym)\n",
    "            y.extend(nmr_param)\n",
    "        else:\n",
    "            raise ValueError('descriptor should be choosen between \"soap\" or \"gaussian_sym\"!')\n",
    "    \n",
    "    if descriptor=='soap':\n",
    "        X = X\n",
    "    else:\n",
    "        X = np.array(X)\n",
    "    y = np.array(y)\n",
    "    \n",
    "    return(X,y)"
   ]
  },
  {
   "cell_type": "code",
   "execution_count": null,
   "metadata": {},
   "outputs": [],
   "source": [
    "# getXY when Not choose sparse in soap\n",
    "import random\n",
    "def getXY(structures_tensors,num,descriptor):\n",
    "    X=[]\n",
    "    y=[]\n",
    "    for structure_tensor in tqdm(random.sample(structures_tensors,num)):\n",
    "        if descriptor=='soap':\n",
    "            soap, nmr_param = TensorSOAPcombo(structure_tensor,'diso',species = species)\n",
    "            X.extend(soap)\n",
    "            y.extend(nmr_param)\n",
    "        elif descriptor=='gaussian_sym':\n",
    "            gaussian_sym,nmr_param = TensorGaussianCombo(structure_tensor,'diso')\n",
    "            X.extend(gaussian_sym)\n",
    "            y.extend(nmr_param)\n",
    "        else:\n",
    "            raise ValueError('descriptor should be choosen between \"soap\" or \"gaussian_sym\"!')\n",
    "    \n",
    "    X = np.array(X)\n",
    "    y = np.array(y)\n",
    "    \n",
    "    return(X,y)"
   ]
  }
 ],
 "metadata": {
  "kernelspec": {
   "display_name": "Python 3",
   "language": "python",
   "name": "python3"
  },
  "language_info": {
   "codemirror_mode": {
    "name": "ipython",
    "version": 3
   },
   "file_extension": ".py",
   "mimetype": "text/x-python",
   "name": "python",
   "nbconvert_exporter": "python",
   "pygments_lexer": "ipython3",
   "version": "3.7.2"
  }
 },
 "nbformat": 4,
 "nbformat_minor": 4
}
